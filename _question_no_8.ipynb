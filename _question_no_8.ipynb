{
  "nbformat": 4,
  "nbformat_minor": 0,
  "metadata": {
    "colab": {
      "name": "#question no:8.ipynb",
      "provenance": []
    },
    "kernelspec": {
      "name": "python3",
      "display_name": "Python 3"
    },
    "language_info": {
      "name": "python"
    }
  },
  "cells": [
    {
      "cell_type": "code",
      "execution_count": 3,
      "metadata": {
        "colab": {
          "base_uri": "https://localhost:8080/"
        },
        "id": "pj-C-xTrMZTj",
        "outputId": "b43264b1-b600-4538-d515-244db12ac82a"
      },
      "outputs": [
        {
          "output_type": "stream",
          "name": "stdout",
          "text": [
            "7.0\n"
          ]
        }
      ],
      "source": [
        "#question no:8\n",
        "import numpy as np\n",
        "lists=[9,8,7,6,5]\n",
        "x = lambda a:np.sum(lists)/len(lists)#average\n",
        "print(x(lists))"
      ]
    },
    {
      "cell_type": "code",
      "source": [
        ""
      ],
      "metadata": {
        "id": "19aOZbkqMc-1"
      },
      "execution_count": null,
      "outputs": []
    }
  ]
}