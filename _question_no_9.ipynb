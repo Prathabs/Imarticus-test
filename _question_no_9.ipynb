{
  "nbformat": 4,
  "nbformat_minor": 0,
  "metadata": {
    "colab": {
      "name": "#question no:9.ipynb",
      "provenance": []
    },
    "kernelspec": {
      "name": "python3",
      "display_name": "Python 3"
    },
    "language_info": {
      "name": "python"
    }
  },
  "cells": [
    {
      "cell_type": "code",
      "execution_count": 1,
      "metadata": {
        "colab": {
          "base_uri": "https://localhost:8080/"
        },
        "id": "jY_tOQWxMzkQ",
        "outputId": "a5eeb0d4-2630-456b-ea3f-6a5e155a9fbb"
      },
      "outputs": [
        {
          "output_type": "stream",
          "name": "stdout",
          "text": [
            "['TRUE', 'FALSE', 'TRUE', 'TRUE', 'FALSE', 'FALSE']\n"
          ]
        }
      ],
      "source": [
        "#question no:9\n",
        "mylist = ['True','FALse','tRUe','tRue','False','faLse']\n",
        "print(list(map(lambda x: x.upper(), mylist)))"
      ]
    },
    {
      "cell_type": "code",
      "source": [
        ""
      ],
      "metadata": {
        "id": "SwZTrWGONAic"
      },
      "execution_count": null,
      "outputs": []
    }
  ]
}