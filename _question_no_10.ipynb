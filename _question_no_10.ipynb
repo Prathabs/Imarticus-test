{
  "nbformat": 4,
  "nbformat_minor": 0,
  "metadata": {
    "colab": {
      "name": "#question no:10.ipynb",
      "provenance": []
    },
    "kernelspec": {
      "name": "python3",
      "display_name": "Python 3"
    },
    "language_info": {
      "name": "python"
    }
  },
  "cells": [
    {
      "cell_type": "code",
      "execution_count": null,
      "metadata": {
        "id": "d9hZzwXlNUZ9"
      },
      "outputs": [],
      "source": [
        "#question no:10\n",
        "dateslist=['17-12-1997','22-4-2011','01-05-1993','19-06-2020']\n",
        "l=[]\n",
        "for i in dateslist:\n",
        "   l.append(i.split(\"-\"))\n",
        "l1=[]\n",
        "for i in l:\n",
        "   for j in i:\n",
        "       if len(j)==4:\n",
        "           l1.append(j)\n",
        "print('output:',l1)"
      ]
    },
    {
      "cell_type": "code",
      "source": [
        ""
      ],
      "metadata": {
        "id": "OsVoSUHgNV4K"
      },
      "execution_count": null,
      "outputs": []
    }
  ]
}