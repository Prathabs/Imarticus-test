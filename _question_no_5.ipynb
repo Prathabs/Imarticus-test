{
  "nbformat": 4,
  "nbformat_minor": 0,
  "metadata": {
    "colab": {
      "name": "#question no:5.ipynb",
      "provenance": []
    },
    "kernelspec": {
      "name": "python3",
      "display_name": "Python 3"
    },
    "language_info": {
      "name": "python"
    }
  },
  "cells": [
    {
      "cell_type": "code",
      "execution_count": null,
      "metadata": {
        "id": "Oayp4qjNQG20"
      },
      "outputs": [],
      "source": [
        "#question no:5\n",
        "WeightOnEarth = {'John':45, 'Shelly':65, 'Marry':35}\n",
        "GMoon = 1.622\n",
        "GEarth = 9.81\n",
        "WMoon = dict(map(lambda x : (x, round((WeightOnEarth[x]/GEarth)*GMoon, 2)), WeightOnEarth))\n",
        "print(\"Weight on Moon: \",WMoon)"
      ]
    },
    {
      "cell_type": "code",
      "source": [
        ""
      ],
      "metadata": {
        "id": "gdk9fvUZQIWR"
      },
      "execution_count": null,
      "outputs": []
    }
  ]
}