{
  "nbformat": 4,
  "nbformat_minor": 0,
  "metadata": {
    "colab": {
      "name": "#question no:6.ipynb",
      "provenance": []
    },
    "kernelspec": {
      "name": "python3",
      "display_name": "Python 3"
    },
    "language_info": {
      "name": "python"
    }
  },
  "cells": [
    {
      "cell_type": "code",
      "execution_count": 1,
      "metadata": {
        "colab": {
          "base_uri": "https://localhost:8080/"
        },
        "id": "C92H-wBSMsZs",
        "outputId": "5f77b565-0d62-4cca-dead-91a1c1f3772e"
      },
      "outputs": [
        {
          "output_type": "stream",
          "name": "stdout",
          "text": [
            "output: ['Maria', 'Hello', 'World', 'Merry', 'You']\n"
          ]
        }
      ],
      "source": [
        "#question no:6\n",
        "namelist=['santa Maria','Hello World','Merry christmas','tHank You']\n",
        "v=[]\n",
        "for i in namelist:\n",
        "   v.append(i.split())\n",
        "v1=[]\n",
        "for i in  v:\n",
        "   for j in i:\n",
        "       if j[0].isupper():\n",
        "           v1.append(j)\n",
        "print('output:',v1)"
      ]
    },
    {
      "cell_type": "code",
      "source": [
        ""
      ],
      "metadata": {
        "id": "7N9BzFxLMtr9"
      },
      "execution_count": null,
      "outputs": []
    }
  ]
}