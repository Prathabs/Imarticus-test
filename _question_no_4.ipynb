{
  "nbformat": 4,
  "nbformat_minor": 0,
  "metadata": {
    "colab": {
      "name": "#question no:4.ipynb",
      "provenance": []
    },
    "kernelspec": {
      "name": "python3",
      "display_name": "Python 3"
    },
    "language_info": {
      "name": "python"
    }
  },
  "cells": [
    {
      "cell_type": "code",
      "execution_count": null,
      "metadata": {
        "id": "TvLDc2VZON8y"
      },
      "outputs": [],
      "source": [
        "#question no:4\n",
        "l=['hello','Dear','hOw','ARe','You']\n",
        "l1=[]\n",
        "for i in l:\n",
        "   if i[1].isupper():\n",
        "       l1.append(i)\n",
        "print('output:',l1)"
      ]
    },
    {
      "cell_type": "code",
      "source": [
        ""
      ],
      "metadata": {
        "id": "CX6O_zA7Pvku"
      },
      "execution_count": null,
      "outputs": []
    }
  ]
}