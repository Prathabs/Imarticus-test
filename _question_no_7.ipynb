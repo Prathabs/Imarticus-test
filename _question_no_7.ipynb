{
  "nbformat": 4,
  "nbformat_minor": 0,
  "metadata": {
    "colab": {
      "name": "#question no:7.ipynb",
      "provenance": []
    },
    "kernelspec": {
      "name": "python3",
      "display_name": "Python 3"
    },
    "language_info": {
      "name": "python"
    }
  },
  "cells": [
    {
      "cell_type": "code",
      "execution_count": null,
      "metadata": {
        "id": "H5iio-JwQZb9"
      },
      "outputs": [],
      "source": [
        "#question no:7\n",
        "given_sets=[[1,2,3,4,8],[2,3,8,5,6],[8,4,5,3,7],[6,9,8,3],[9,12,3,7,6,8,4,6,21,1,6]]\n",
        "l=[]\n",
        "for i in given_sets:\n",
        "   l.append(set(i))\n",
        "print('output:',set.intersection(*[set(x) for x in l])) "
      ]
    }
  ]
}