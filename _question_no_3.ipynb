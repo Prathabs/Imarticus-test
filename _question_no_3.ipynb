{
  "nbformat": 4,
  "nbformat_minor": 0,
  "metadata": {
    "colab": {
      "name": "#question no:3.ipynb",
      "provenance": []
    },
    "kernelspec": {
      "name": "python3",
      "display_name": "Python 3"
    },
    "language_info": {
      "name": "python"
    }
  },
  "cells": [
    {
      "cell_type": "code",
      "execution_count": 1,
      "metadata": {
        "colab": {
          "base_uri": "https://localhost:8080/"
        },
        "id": "sxhSlPUYMOwj",
        "outputId": "148567bf-d152-47eb-8b7e-f67c8ff7e33b"
      },
      "outputs": [
        {
          "output_type": "stream",
          "name": "stdout",
          "text": [
            "sour fruits : ['lemon', 'grapes', 'kiwi', 'orange', 'limes']\n"
          ]
        }
      ],
      "source": [
        "#question no:3\n",
        "fruits=(('lemon','sour'),('dragonfruit','sweet'),('grapes','sour'),('kiwi','sour'),('apple','sweet'),('orange','sour'),('blueberries','sweet'),('limes','sour'))\n",
        "t=[]\n",
        "for i in fruits:\n",
        "   if i[1]=='sour':\n",
        "       t.append(i[0])\n",
        "print('sour fruits :',t)"
      ]
    },
    {
      "cell_type": "code",
      "source": [
        ""
      ],
      "metadata": {
        "id": "CmtQz4kaMTpv"
      },
      "execution_count": null,
      "outputs": []
    }
  ]
}