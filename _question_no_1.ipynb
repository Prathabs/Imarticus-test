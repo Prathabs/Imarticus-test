{
  "nbformat": 4,
  "nbformat_minor": 0,
  "metadata": {
    "colab": {
      "name": "#question no :1.ipynb",
      "provenance": []
    },
    "kernelspec": {
      "name": "python3",
      "display_name": "Python 3"
    },
    "language_info": {
      "name": "python"
    }
  },
  "cells": [
    {
      "cell_type": "code",
      "execution_count": 25,
      "metadata": {
        "colab": {
          "base_uri": "https://localhost:8080/"
        },
        "id": "QNFln1VF7k0G",
        "outputId": "4e4f0f7e-55ff-4f2a-efdc-694da11e03fa"
      },
      "outputs": [
        {
          "output_type": "stream",
          "name": "stdout",
          "text": [
            "the positive comments: ['he is the good boy', 'he is an awesome player', 'she is the best', 'these burger are really nice']\n",
            "the negative comments: ['food is the worst here', 'this pizza tastes awful']\n"
          ]
        }
      ],
      "source": [
        "#question no :1\n",
        "positive=['good','awesome','best','nice']\n",
        "negative=['worst','awful']\n",
        "comments=['he is the good boy','food is the worst here','he is an awesome player','she is the best','this pizza tastes awful','these burger are really nice']\n",
        "s=[]\n",
        "s1=[]\n",
        "for i in comments:\n",
        "    for j in negative:\n",
        "        if j in i:\n",
        "            s.append(i)\n",
        "    for k in positive:\n",
        "        if k in i:\n",
        "            s1.append(i)\n",
        "print('the positive comments:',s1)\n",
        "print('the negative comments:',s)"
      ]
    },
    {
      "cell_type": "code",
      "source": [
        ""
      ],
      "metadata": {
        "id": "et2V806GKvb0"
      },
      "execution_count": null,
      "outputs": []
    }
  ]
}