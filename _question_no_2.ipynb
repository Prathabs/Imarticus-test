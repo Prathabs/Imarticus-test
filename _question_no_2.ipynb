{
  "nbformat": 4,
  "nbformat_minor": 0,
  "metadata": {
    "colab": {
      "name": "#question no:2.ipynb",
      "provenance": []
    },
    "kernelspec": {
      "name": "python3",
      "display_name": "Python 3"
    },
    "language_info": {
      "name": "python"
    }
  },
  "cells": [
    {
      "cell_type": "code",
      "execution_count": null,
      "metadata": {
        "id": "S-c6rYkEOdMT"
      },
      "outputs": [],
      "source": [
        "#question no:2\n",
        "def add1(n):\n",
        "   d = { 'Square': lambda a : a**2,\n",
        "        'Cube': lambda a : a**3,\n",
        "        'Squareroot': lambda a : a**(1/2)}\n",
        "   sum = 0\n",
        "   for key in d.keys():\n",
        "       sum += d[key](n)\n",
        "   return sum\n",
        "   \n",
        "print(add1(5))"
      ]
    },
    {
      "cell_type": "code",
      "source": [
        ""
      ],
      "metadata": {
        "id": "Dtyj5HwJOmuP"
      },
      "execution_count": null,
      "outputs": []
    }
  ]
}